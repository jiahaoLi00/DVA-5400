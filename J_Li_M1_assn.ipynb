{
 "cells": [
  {
   "cell_type": "markdown",
   "id": "04ceefc6",
   "metadata": {},
   "source": [
    "# assignment 1"
   ]
  },
  {
   "cell_type": "code",
   "execution_count": 1,
   "id": "b2b9db2e",
   "metadata": {},
   "outputs": [],
   "source": [
    "#  import \n",
    "import csv\n",
    "import numpy as np "
   ]
  },
  {
   "cell_type": "markdown",
   "id": "5784ea56",
   "metadata": {},
   "source": [
    "## task 1\n",
    "Separate lists for each column"
   ]
  },
  {
   "cell_type": "code",
   "execution_count": 2,
   "id": "a41b8835",
   "metadata": {},
   "outputs": [
    {
     "name": "stdout",
     "output_type": "stream",
     "text": [
      "Diagnosis:\n",
      " ['FALSE', 'TRUE', 'TRUE', 'FALSE', 'FALSE', 'FALSE', 'TRUE', 'FALSE', 'TRUE', 'TRUE', 'FALSE', 'FALSE', 'TRUE', 'FALSE', 'FALSE', 'FALSE', 'TRUE', 'FALSE', 'FALSE', 'FALSE', 'FALSE', 'FALSE', 'TRUE', 'TRUE', 'TRUE', 'FALSE', 'FALSE', 'FALSE', 'FALSE', 'TRUE', 'FALSE', 'TRUE', 'TRUE', 'FALSE', 'FALSE', 'FALSE', 'TRUE', 'TRUE', 'TRUE', 'FALSE']\n",
      "\n",
      "Age:\n",
      " [63, 67, 67, 37, 41, 56, 62, 57, 63, 53, 57, 56, 56, 44, 52, 57, 48, 54, 48, 49, 64, 58, 58, 58, 60, 50, 58, 66, 43, 40, 69, 60, 64, 59, 44, 42, 43, 57, 55, 61]\n",
      "\n",
      "Gender:\n",
      " ['MALE', 'MALE', 'MALE', 'MALE', 'FEMALE', 'MALE', 'FEMALE', 'FEMALE', 'MALE', 'MALE', 'MALE', 'FEMALE', 'MALE', 'MALE', 'MALE', 'MALE', 'MALE', 'MALE', 'FEMALE', 'MALE', 'MALE', 'FEMALE', 'MALE', 'MALE', 'MALE', 'FEMALE', 'FEMALE', 'FEMALE', 'MALE', 'MALE', 'FEMALE', 'MALE', 'MALE', 'MALE', 'MALE', 'MALE', 'MALE', 'MALE', 'MALE', 'MALE']\n",
      "\n",
      "Type_of_chest_pain:\n",
      " ['TYPICAL_ANGINA', 'ASYMPTOMATIC', 'ASYMPTOMATIC', 'NON_ANGINAL', 'ATYPICAL_ANGINA', 'ATYPICAL_ANGINA', 'ASYMPTOMATIC', 'ASYMPTOMATIC', 'ASYMPTOMATIC', 'ASYMPTOMATIC', 'ASYMPTOMATIC', 'ATYPICAL_ANGINA', 'NON_ANGINAL', 'ATYPICAL_ANGINA', 'NON_ANGINAL', 'NON_ANGINAL', 'ATYPICAL_ANGINA', 'ASYMPTOMATIC', 'NON_ANGINAL', 'ATYPICAL_ANGINA', 'TYPICAL_ANGINA', 'TYPICAL_ANGINA', 'ATYPICAL_ANGINA', 'NON_ANGINAL', 'ASYMPTOMATIC', 'NON_ANGINAL', 'NON_ANGINAL', 'TYPICAL_ANGINA', 'ASYMPTOMATIC', 'ASYMPTOMATIC', 'TYPICAL_ANGINA', 'ASYMPTOMATIC', 'NON_ANGINAL', 'ASYMPTOMATIC', 'NON_ANGINAL', 'ASYMPTOMATIC', 'ASYMPTOMATIC', 'ASYMPTOMATIC', 'ASYMPTOMATIC', 'NON_ANGINAL']\n",
      "\n",
      "Blood_pressure_reading:\n",
      " [145, 160, 120, 130, 130, 120, 140, 120, 130, 140, 140, 140, 130, 120, 172, 150, 110, 140, 130, 130, 110, 150, 120, 132, 130, 120, 120, 150, 150, 110, 140, 117, 140, 135, 130, 140, 120, 150, 132, 150]\n",
      "\n",
      "Cholesterol_level:\n",
      " [233, 286, 229, 250, 204, 236, 268, 354, 254, 203, 192, 294, 256, 263, 199, 168, 229, 239, 275, 266, 211, 283, 284, 224, 206, 219, 340, 226, 247, 167, 239, 230, 335, 234, 233, 226, 177, 276, 353, 243]\n"
     ]
    }
   ],
   "source": [
    "# define list corresponding to each column\n",
    "Diagnosis = []\n",
    "Age = []\n",
    "Gender = []\n",
    "Type_of_chest_pain = []\n",
    "Blood_pressure_reading = []\n",
    "Cholesterol_level = []\n",
    "\n",
    "\n",
    "# read file\n",
    "with open('M1_Data40.txt') as csvfile:\n",
    "    readCSV = csv.reader(csvfile)\n",
    "    for row in readCSV:\n",
    "# add each data to corresponding list\n",
    "# Age, Blood Pressure, and Cholesterol are clearly meant to be used as integer data values\n",
    "        Diagnosis.append(row[0])\n",
    "        Age.append(int(row[1]))\n",
    "        Gender.append(row[2])\n",
    "        Type_of_chest_pain.append(row[3])\n",
    "        Blood_pressure_reading.append(int(row[4]))\n",
    "        Cholesterol_level.append(int(row[5]))\n",
    "        \n",
    "        \n",
    "# print each list \n",
    "print('Diagnosis:\\n', Diagnosis)\n",
    "print('\\nAge:\\n', Age)\n",
    "print('\\nGender:\\n', Gender)\n",
    "print('\\nType_of_chest_pain:\\n', Type_of_chest_pain)\n",
    "print('\\nBlood_pressure_reading:\\n', Blood_pressure_reading)\n",
    "print('\\nCholesterol_level:\\n', Cholesterol_level)"
   ]
  },
  {
   "cell_type": "markdown",
   "id": "2061bcf6",
   "metadata": {},
   "source": [
    "I move the 'M1_Data.txt' next to the notebook file, so my path is directly the file name.\n",
    "\n",
    "list.append(): a function that add data into end of the list\n",
    "\n",
    "list[number]: get the data by using the index. The index starts at 0.\n",
    "\n",
    "int(str): change string type to integer type"
   ]
  },
  {
   "cell_type": "markdown",
   "id": "05fa1d2d",
   "metadata": {},
   "source": [
    "## task 2\n",
    "Find the list index values of each hospital patient having a “blood pressure” reading that is greater than 140"
   ]
  },
  {
   "cell_type": "code",
   "execution_count": 3,
   "id": "7c610f60",
   "metadata": {},
   "outputs": [
    {
     "name": "stdout",
     "output_type": "stream",
     "text": [
      "blood_pressure:\n",
      " [0, 1, 14, 15, 21, 27, 28, 37, 39]\n"
     ]
    }
   ],
   "source": [
    "# define list\n",
    "blood_pressure = []\n",
    "\n",
    "# judge each data from Blood_pressure_reading list by usig index\n",
    "for i in range(len(Blood_pressure_reading)):\n",
    "# if condition\n",
    "     if Blood_pressure_reading[i] > 140:\n",
    "         blood_pressure.append(i)\n",
    "         \n",
    "print('blood_pressure:\\n', blood_pressure)"
   ]
  },
  {
   "cell_type": "markdown",
   "id": "02ff67ed",
   "metadata": {},
   "source": [
    "for i in range(3):  means i ranges from 0 to 2 and totally makes three loops.\n",
    "\n",
    "len(list): a function that return the lenth of the list"
   ]
  },
  {
   "cell_type": "markdown",
   "id": "52a927da",
   "metadata": {},
   "source": [
    "## task 3\n",
    "Find the \"pain type\" value for each hospital patient having a \"blood pressure\" value \n",
    "that is greater than 140"
   ]
  },
  {
   "cell_type": "code",
   "execution_count": 4,
   "id": "02e1c039",
   "metadata": {},
   "outputs": [
    {
     "name": "stdout",
     "output_type": "stream",
     "text": [
      "pain_type:\n",
      " ['TYPICAL_ANGINA', 'ASYMPTOMATIC', 'NON_ANGINAL', 'NON_ANGINAL', 'TYPICAL_ANGINA', 'TYPICAL_ANGINA', 'ASYMPTOMATIC', 'ASYMPTOMATIC', 'NON_ANGINAL']\n"
     ]
    }
   ],
   "source": [
    "# define list\n",
    "pain_type = []\n",
    "\n",
    "#loops\n",
    "for i in blood_pressure:\n",
    "    pain_type.append(Type_of_chest_pain[i])\n",
    "print('pain_type:\\n', pain_type)"
   ]
  },
  {
   "cell_type": "markdown",
   "id": "b214295f",
   "metadata": {},
   "source": [
    "As I have found the patient having a \"blood pressure\" in task 2, I directly use the blood_pressure list."
   ]
  },
  {
   "cell_type": "markdown",
   "id": "bb252563",
   "metadata": {},
   "source": [
    "## task 4\n",
    "Find the index value for each hospital patient having a “gender” value of \"FEMALE\" \n",
    "and a “pain type” value that is not \"ASYMPTOMATIC\"."
   ]
  },
  {
   "cell_type": "code",
   "execution_count": 5,
   "id": "345e706c",
   "metadata": {},
   "outputs": [
    {
     "name": "stdout",
     "output_type": "stream",
     "text": [
      "FEMALE_not_ASYMPTOMATIC:\n",
      " [4, 11, 18, 21, 25, 26, 27, 30]\n"
     ]
    }
   ],
   "source": [
    "# define list\n",
    "FEMALE_not_ASYMPTOMATIC = []\n",
    "\n",
    "# loops by index: i\n",
    "for i in range(len(Gender)):\n",
    "# patient having a \"gender\" value of \"FEMALE\"\n",
    "    if Gender[i] == 'FEMALE':\n",
    "# patient having a \"pain type” value that is not \"ASYMPTOMATIC\".\n",
    "        if Type_of_chest_pain[i] != 'ASYMPTOMATIC':\n",
    "            FEMALE_not_ASYMPTOMATIC.append(i)\n",
    "print('FEMALE_not_ASYMPTOMATIC:\\n', FEMALE_not_ASYMPTOMATIC)"
   ]
  },
  {
   "cell_type": "markdown",
   "id": "e334307e",
   "metadata": {},
   "source": [
    "In this loop, variable i is the index of different column.\n",
    "\n",
    "equal: == ， not =\n",
    "\n",
    "not equal: !=\n",
    "\n",
    "list.index(var) can just return the first index of var, which means the function .index() can't work when there are many identical variables"
   ]
  },
  {
   "cell_type": "markdown",
   "id": "cd0523d0",
   "metadata": {},
   "source": [
    "## task 5\n",
    "Find the index value for each hospital patient having an ‘age’ value of less than 56 and a “diagnosis” value of \"TRUE\""
   ]
  },
  {
   "cell_type": "code",
   "execution_count": 6,
   "id": "485dd5e9",
   "metadata": {},
   "outputs": [
    {
     "name": "stdout",
     "output_type": "stream",
     "text": [
      "agelessthan56_diagnosis:\n",
      " [9, 16, 29, 36, 38]\n"
     ]
    }
   ],
   "source": [
    "# define list\n",
    "agelessthan56_diagnosis = []\n",
    "\n",
    "# loops\n",
    "for i in range(len(Age)):\n",
    "# patient having 'age' less than 56\n",
    "    if Age[i] < 56:\n",
    "# patient having“diagnosis” value of \"TRUE\"\n",
    "        if Diagnosis[i] == 'TRUE':\n",
    "            agelessthan56_diagnosis.append(i)\n",
    "print('agelessthan56_diagnosis:\\n', agelessthan56_diagnosis)"
   ]
  },
  {
   "cell_type": "markdown",
   "id": "26331dea",
   "metadata": {},
   "source": [
    "## task 6\n",
    "Calculate the average age, the median blood pressure reading, and the standard deviation of the\n",
    "cholesterol readings"
   ]
  },
  {
   "cell_type": "code",
   "execution_count": 7,
   "id": "506d1df2",
   "metadata": {},
   "outputs": [
    {
     "name": "stdout",
     "output_type": "stream",
     "text": [
      "average age:\n",
      " 54.9\n",
      "median blood pressure reading:\n",
      " 21.0\n",
      "the standard deviation of the cholesterol readings:\n",
      " 45.239356483044716\n"
     ]
    }
   ],
   "source": [
    "# import numpy as np\n",
    "\n",
    "#average age\n",
    "print('average age:\\n', np.mean(Age))\n",
    "# median blood pressure reading\n",
    "print('median blood pressure reading:\\n', np.median(blood_pressure))\n",
    "# the standard deviation of the cholesterol readings\n",
    "print('the standard deviation of the cholesterol readings:\\n', np.std(Cholesterol_level))\n"
   ]
  },
  {
   "cell_type": "markdown",
   "id": "b0abd36b",
   "metadata": {},
   "source": [
    "mean(), median() and std() functions are all in numpy. So import numpy before using them\n",
    "\n",
    "mean(list): calculate the average of data in list\n",
    "\n",
    "median(list): calculate the median of data in list\n",
    "\n",
    "std(list): calculate the standard deviation of data in list"
   ]
  },
  {
   "cell_type": "markdown",
   "id": "e9f4fdf4",
   "metadata": {},
   "source": [
    "Jiahao Li"
   ]
  },
  {
   "cell_type": "code",
   "execution_count": null,
   "id": "15df763f",
   "metadata": {},
   "outputs": [],
   "source": []
  }
 ],
 "metadata": {
  "kernelspec": {
   "display_name": "Python 3 (ipykernel)",
   "language": "python",
   "name": "python3"
  },
  "language_info": {
   "codemirror_mode": {
    "name": "ipython",
    "version": 3
   },
   "file_extension": ".py",
   "mimetype": "text/x-python",
   "name": "python",
   "nbconvert_exporter": "python",
   "pygments_lexer": "ipython3",
   "version": "3.9.13"
  }
 },
 "nbformat": 4,
 "nbformat_minor": 5
}
